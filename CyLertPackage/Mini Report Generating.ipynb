{
 "cells": [
  {
   "cell_type": "markdown",
   "metadata": {},
   "source": [
    "# Importing Libraries"
   ]
  },
  {
   "cell_type": "code",
   "execution_count": null,
   "metadata": {},
   "outputs": [],
   "source": [
    "import pandas as pd # type: ignore"
   ]
  },
  {
   "cell_type": "markdown",
   "metadata": {},
   "source": [
    "------------------------------------------------------------------------------------------------------------------------------------------------------------------------------------------------------------"
   ]
  },
  {
   "cell_type": "markdown",
   "metadata": {},
   "source": [
    "# Loading Data"
   ]
  },
  {
   "cell_type": "code",
   "execution_count": null,
   "metadata": {},
   "outputs": [],
   "source": [
    "EventsAlertsDataset = []\n",
    "\n",
    "Labels = []\n",
    "\n",
    "# TODO: Fill Desired Server Name\n",
    "\n",
    "ServerName = \"\"\n",
    "\n",
    "EventsAlertsDatasetFilePath = f\"../Datasets/AIT-LDS V1.1/data/mail.{ServerName}.com/suricata/eve.json\"\n",
    "\n",
    "LabelsFilePath = f\"../Datasets/AIT-LDS V1.1/data/mail.{ServerName}.com/suricata/eve.json\""
   ]
  },
  {
   "cell_type": "code",
   "execution_count": null,
   "metadata": {},
   "outputs": [],
   "source": [
    "from Utils.OnCallLibs import JsonLib\n",
    "\n",
    "with open(EventsAlertsDatasetFilePath, \"r\") as EventsAlertsDatasetFile:\n",
    "\n",
    "\twhile (True):\n",
    "\t\t\n",
    "\t\tEventAlert = EventsAlertsDatasetFile.readline()\n",
    "\n",
    "\t\tif not EventAlert:\n",
    "\n",
    "\t\t\tbreak\n",
    "\n",
    "\t\tEventsAlertsDataset.append(JsonLib.loads(EventAlert))\n"
   ]
  },
  {
   "cell_type": "code",
   "execution_count": null,
   "metadata": {},
   "outputs": [],
   "source": [
    "with open(LabelsFilePath, \"r\") as LabelsFile:\n",
    "\n",
    "\twhile (True):\n",
    "\n",
    "\t\tLabel = LabelsFile.readline()\n",
    "\n",
    "\t\tif not Label:\n",
    "\n",
    "\t\t\tbreak\n",
    "\n",
    "\t\tLabels.append(Label.split(\",\")[0])"
   ]
  },
  {
   "cell_type": "markdown",
   "metadata": {},
   "source": [
    "------------------------------------------------------------------------------------------------------------------------------------------------------------------------------------------------------------"
   ]
  },
  {
   "cell_type": "markdown",
   "metadata": {},
   "source": [
    "# Lines Matching"
   ]
  },
  {
   "cell_type": "code",
   "execution_count": null,
   "metadata": {},
   "outputs": [],
   "source": [
    "LabelRLEList = []\n",
    "\n",
    "CurrentMatchingattackStatus = Labels[0]\n",
    "\n",
    "CurrentCount = 0\n",
    "\n",
    "for Label in Labels:\n",
    "\n",
    "\tPossibleNewAttackStatus = Label\n",
    "\n",
    "\tif PossibleNewAttackStatus == CurrentMatchingattackStatus:\n",
    "\n",
    "\t\tCurrentCount += 1\n",
    "\n",
    "\telse:\n",
    "\n",
    "\t\tLabelRLEList.append({\"Key\" : str(CurrentMatchingattackStatus), \"Value\" : str(CurrentCount)})\n",
    "\n",
    "\t\tCurrentMatchingattackStatus = PossibleNewAttackStatus\n",
    "\n",
    "\t\tCurrentCount = 1\n",
    "\n",
    "# Adding Last Match\n",
    "LabelRLEList.append({\"Key\" : str(CurrentMatchingattackStatus), \"Value\" : str(CurrentCount)})\n"
   ]
  },
  {
   "cell_type": "code",
   "execution_count": null,
   "metadata": {},
   "outputs": [],
   "source": [
    "AttackStatusCorrespondingEvents = []\n",
    "\n",
    "LeftIndex = 0\n",
    "\n",
    "RightIndex = 0\n",
    "\n",
    "for RLE in LabelRLEList:\n",
    "\n",
    "\tRightIndex += int(RLE[\"Value\"])\n",
    "\n",
    "\tAttackStatusCorrespondingEvents.append({\"AttackStatus\" :  RLE[\"Key\"], \"CorrespondingEvents\" : EventsAlertsDataset[LeftIndex : RightIndex], \"EventCount\" : RLE[\"Value\"], \"AlertCount\" : 0})\n",
    "\n",
    "\tLeftIndex = RightIndex"
   ]
  },
  {
   "cell_type": "code",
   "execution_count": null,
   "metadata": {},
   "outputs": [],
   "source": [
    "del EventsAlertsDataset\n",
    "del Labels"
   ]
  },
  {
   "cell_type": "markdown",
   "metadata": {},
   "source": [
    "# Generating Mini Report"
   ]
  },
  {
   "cell_type": "code",
   "execution_count": null,
   "metadata": {},
   "outputs": [],
   "source": [
    "for AttackStatusEvents in AttackStatusCorrespondingEvents:\n",
    "\t\n",
    "\tAlertCount = 0\n",
    "\n",
    "\tfor Event in AttackStatusEvents[\"CorrespondingEvents\"]:\n",
    "\t\t\n",
    "\t\tif Event[\"event_type\"] == \"alert\":\n",
    "\n",
    "\t\t\tAlertCount += 1\n",
    "\n",
    "\t\n",
    "\tAttackStatusEvents[\"AlertCount\"] = AlertCount"
   ]
  },
  {
   "cell_type": "code",
   "execution_count": null,
   "metadata": {},
   "outputs": [],
   "source": [
    "\n",
    "AttackStatuList = []\n",
    "\n",
    "EventCountList = []\n",
    "\n",
    "AlertCountList = []\n",
    "\n",
    "for AttackStatusEvents in AttackStatusCorrespondingEvents:\n",
    "\n",
    "\tAttackStatuList.append(AttackStatusEvents[\"AttackStatus\"])\n",
    "\n",
    "\tEventCountList.append(AttackStatusEvents[\"EventCount\"])\n",
    "\t\n",
    "\tAlertCountList.append(AttackStatusEvents[\"AlertCount\"])"
   ]
  },
  {
   "cell_type": "code",
   "execution_count": null,
   "metadata": {},
   "outputs": [],
   "source": [
    "ReportDataFrame = pd.DataFrame(list(zip(AttackStatuList, EventCountList, AlertCountList)), columns = [\"Attack Status\", \"Corresponding Events Generated\", \"Corresponding Alerts Generated\"])"
   ]
  },
  {
   "cell_type": "code",
   "execution_count": null,
   "metadata": {},
   "outputs": [],
   "source": [
    "ReportDataFrame.to_csv(\"SpiralMiniReport.csv\", index = False)"
   ]
  }
 ],
 "metadata": {
  "language_info": {
   "name": "python"
  }
 },
 "nbformat": 4,
 "nbformat_minor": 2
}
