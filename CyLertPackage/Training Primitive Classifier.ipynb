{
 "cells": [
  {
   "cell_type": "markdown",
   "metadata": {},
   "source": [
    "# Importing Libraries"
   ]
  },
  {
   "cell_type": "code",
   "execution_count": 1,
   "metadata": {},
   "outputs": [
    {
     "name": "stderr",
     "output_type": "stream",
     "text": [
      "Some weights of BertModel were not initialized from the model checkpoint at markusbayer/CySecBERT and are newly initialized: ['bert.pooler.dense.bias', 'bert.pooler.dense.weight']\n",
      "You should probably TRAIN this model on a down-stream task to be able to use it for predictions and inference.\n"
     ]
    }
   ],
   "source": [
    "import json\n",
    "import keras\n",
    "import random\n",
    "import numpy as np\n",
    "import pandas as pd\n",
    "import matplotlib.pyplot as plt\n",
    "\n",
    "from sklearn.model_selection import train_test_split as TrainTestSplit\n",
    "from Preprocessing.DataLoaders.CyLertDataLoaders import TimeLabeledDataLoader\n",
    "from Preprocessing.DataHandler import DataHandler\n",
    "from Classifiers.CyLertClassifiers import PrimitiveClassifier"
   ]
  },
  {
   "cell_type": "markdown",
   "metadata": {},
   "source": [
    "------------------------------------------------------------------------------------------------------------------------------------------------------------------------------------------------------------"
   ]
  },
  {
   "cell_type": "markdown",
   "metadata": {},
   "source": [
    "# Initializng Data Handler"
   ]
  },
  {
   "cell_type": "code",
   "execution_count": 2,
   "metadata": {},
   "outputs": [],
   "source": [
    "DataHandler = DataHandler()"
   ]
  },
  {
   "cell_type": "markdown",
   "metadata": {},
   "source": [
    "------------------------------------------------------------------------------------------------------------------------------------------------------------------------------------------------------------"
   ]
  },
  {
   "cell_type": "markdown",
   "metadata": {},
   "source": [
    "# Initializing Primitive Classifier"
   ]
  },
  {
   "cell_type": "code",
   "execution_count": 3,
   "metadata": {},
   "outputs": [],
   "source": [
    "InputDim = 768\n",
    "LabelsCount = 5\n",
    "ConnectedLayersCount = 1"
   ]
  },
  {
   "cell_type": "code",
   "execution_count": 4,
   "metadata": {},
   "outputs": [],
   "source": [
    "Classifier = keras.Sequential()\n",
    "Classifier = PrimitiveClassifier(InputDim = InputDim, NeuronsLayersCount = [100], OutputDim = LabelsCount, ConnectedLayersCount = ConnectedLayersCount).Classifier"
   ]
  },
  {
   "cell_type": "code",
   "execution_count": 5,
   "metadata": {},
   "outputs": [],
   "source": [
    "Classifier.compile(optimizer = \"Adam\", loss = \"categorical_crossentropy\", metrics = [\"f1_score\", \"accuracy\"])"
   ]
  },
  {
   "cell_type": "markdown",
   "metadata": {},
   "source": [
    "------------------------------------------------------------------------------------------------------------------------------------------------------------------------------------------------------------"
   ]
  },
  {
   "cell_type": "markdown",
   "metadata": {},
   "source": [
    "# Loading Required Data"
   ]
  },
  {
   "cell_type": "code",
   "execution_count": 6,
   "metadata": {},
   "outputs": [],
   "source": [
    "ReadFileToken = \"r\""
   ]
  },
  {
   "cell_type": "code",
   "execution_count": 7,
   "metadata": {},
   "outputs": [],
   "source": [
    "ServersNames = [\"cup\", \"insect\", \"onion\", \"spiral\"]\n",
    "\n",
    "EventsAlertsDatasetDirectoryPathList = [f\"../Datasets/AIT-LDS V1.1/data/mail.{ServerName}.com/suricata/\" for ServerName in ServersNames]\n",
    "\n",
    "LabelsDirectoryPathList = [f\"../Datasets/AIT-LDS V1.1/labels/mail.{ServerName}.com/suricata/\" for ServerName in ServersNames]"
   ]
  },
  {
   "cell_type": "code",
   "execution_count": 8,
   "metadata": {},
   "outputs": [],
   "source": [
    "EventAlertDataset = []\n",
    "\n",
    "for EventsAlertsDatasetDirectoryPath in EventsAlertsDatasetDirectoryPathList:\n",
    "\n",
    "\twith open (EventsAlertsDatasetDirectoryPath + \"eve.json\", ReadFileToken) as EventAlertDatasetFile:\n",
    "\n",
    "\t\twhile(True):\n",
    "\n",
    "\t\t\tLine = EventAlertDatasetFile.readline()\n",
    "\n",
    "\t\t\tif not Line:\n",
    "\n",
    "\t\t\t\tbreak\n",
    "\n",
    "\t\t\tEventAlertDataset.append(Line)\n"
   ]
  },
  {
   "cell_type": "code",
   "execution_count": 9,
   "metadata": {},
   "outputs": [],
   "source": [
    "Labels = []\n",
    "\n",
    "for LabelsDirectoryPath in LabelsDirectoryPathList:\n",
    "\n",
    "\twith open (LabelsDirectoryPath + \"eve.json\", ReadFileToken) as LabelsPath:\n",
    "\n",
    "\t\twhile(True):\n",
    "\n",
    "\t\t\tLine = LabelsPath.readline()\n",
    "\n",
    "\t\t\tif not Line:\n",
    "\n",
    "\t\t\t\tbreak\n",
    "\t\t\t\n",
    "\t\t\tLabels.append(Line.split(\",\")[0])\n",
    "\n",
    "\t\t\t"
   ]
  },
  {
   "cell_type": "markdown",
   "metadata": {},
   "source": [
    "------------------------------------------------------------------------------------------------------------------------------------------------------------------------------------------------------------"
   ]
  },
  {
   "cell_type": "markdown",
   "metadata": {},
   "source": [
    "# Data Sampling"
   ]
  },
  {
   "cell_type": "code",
   "execution_count": 10,
   "metadata": {},
   "outputs": [],
   "source": [
    "LabelsFrequency = {}\n",
    "\n",
    "for Index, Label in enumerate(Labels):\n",
    "\n",
    "\tGroupLabel = \"webshell\" if \"webshell\" in Label else Label\n",
    "\t\n",
    "\tLabelsFrequency[GroupLabel] = (LabelsFrequency.get(GroupLabel, 0) + 1)"
   ]
  },
  {
   "cell_type": "code",
   "execution_count": 11,
   "metadata": {},
   "outputs": [],
   "source": [
    "DesiredRecordsCount = 2000\n",
    "\n",
    "DesiredLabelsFrequency = {}\n",
    "\n",
    "for Label, Frequency in LabelsFrequency.items():\n",
    "\n",
    "\tif Frequency > 500:\n",
    "\n",
    "\t\tDesiredLabelsFrequency[Label] = min(DesiredRecordsCount, Frequency)\n"
   ]
  },
  {
   "cell_type": "code",
   "execution_count": 12,
   "metadata": {},
   "outputs": [],
   "source": [
    "Dataset = list(zip(EventAlertDataset, Labels))\n",
    "random.shuffle(Dataset)"
   ]
  },
  {
   "cell_type": "code",
   "execution_count": 13,
   "metadata": {},
   "outputs": [],
   "source": [
    "FilteredDataset = []\n",
    "\n",
    "KnownLabels = {\"0\" : 0}\n",
    "\n",
    "LastKnownLabelId = 1\n",
    "\n",
    "for EventAlert, Label in (Dataset):\n",
    "\n",
    "\tGroupLabel = \"webshell\" if \"webshell\" in Label else Label\n",
    "\n",
    "\tif (GroupLabel not in KnownLabels) and (GroupLabel in DesiredLabelsFrequency):\n",
    "\n",
    "\t\tKnownLabels[GroupLabel] = LastKnownLabelId\n",
    "\n",
    "\t\tFilteredDataset.append \\\n",
    "\t\t(\n",
    "\t\t\t(\n",
    "\t\t\t\tEventAlert,\n",
    "\t\t\t\t[1 if flag == LastKnownLabelId else 0 for flag in range(len(DesiredLabelsFrequency))],\n",
    "\t\t\t)\n",
    "\t\t)\n",
    "\n",
    "\t\tLastKnownLabelId += 1\n",
    "\n",
    "\telif (GroupLabel in KnownLabels) and (DesiredLabelsFrequency[GroupLabel] > 0):\n",
    "\n",
    "\t\tFilteredDataset.append \\\n",
    "\t\t(\n",
    "\t\t\t(\n",
    "\t\t\t\tEventAlert,\n",
    "\t\t\t\t[1 if flag == KnownLabels[GroupLabel] else 0 for flag in range(len(DesiredLabelsFrequency))],\n",
    "\t\t\t)\n",
    "\t\t)\n",
    "\n",
    "\telse:\n",
    "\n",
    "\t\tcontinue\n",
    "\n",
    "\tDesiredLabelsFrequency[GroupLabel] = DesiredLabelsFrequency[GroupLabel] - 1"
   ]
  },
  {
   "cell_type": "code",
   "execution_count": 14,
   "metadata": {},
   "outputs": [],
   "source": [
    "Dataset = pd.DataFrame(FilteredDataset, columns = [\"Event/Alert\", \"Label\"])"
   ]
  },
  {
   "cell_type": "code",
   "execution_count": 15,
   "metadata": {},
   "outputs": [],
   "source": [
    "del EventAlertDataset, Labels"
   ]
  },
  {
   "cell_type": "code",
   "execution_count": 16,
   "metadata": {},
   "outputs": [],
   "source": [
    "TestDataSize = 0.2\n",
    "ValidationDataSize = 0.25\n",
    "TrainingDataSize = 1 - TestDataSize - ValidationDataSize "
   ]
  },
  {
   "cell_type": "code",
   "execution_count": 17,
   "metadata": {},
   "outputs": [],
   "source": [
    "XTrainingData, XTestingValidationData, YTrainingData, YTestingValidationData = \\\n",
    "TrainTestSplit \\\n",
    "(\n",
    "\tDataset[Dataset.columns[:len(Dataset.columns) - 1]],\n",
    "\tDataset[Dataset.columns[len(Dataset.columns) - 1]],\n",
    "\ttest_size = TrainingDataSize\n",
    ")"
   ]
  },
  {
   "cell_type": "code",
   "execution_count": 18,
   "metadata": {},
   "outputs": [],
   "source": [
    "XValidationData, YTestingData, YValidationData, YTestingData = \\\n",
    "TrainTestSplit \\\n",
    "(\n",
    "\tXTestingValidationData,\n",
    "\tYTestingValidationData,\n",
    "\ttest_size = ValidationDataSize / (1 - TrainingDataSize)\n",
    ")"
   ]
  },
  {
   "cell_type": "code",
   "execution_count": 19,
   "metadata": {},
   "outputs": [],
   "source": [
    "del Dataset"
   ]
  },
  {
   "cell_type": "markdown",
   "metadata": {},
   "source": [
    "------------------------------------------------------------------------------------------------------------------------------------------------------------------------------------------------------------"
   ]
  },
  {
   "cell_type": "markdown",
   "metadata": {},
   "source": [
    "# Training Model"
   ]
  },
  {
   "cell_type": "code",
   "execution_count": 20,
   "metadata": {},
   "outputs": [],
   "source": [
    "def GenerateBatches(*, DataHandler, XData, YData, BatchSize = 128):\n",
    "\n",
    "\tXTrainingBatch = []\n",
    "\tYTrainingBatch = []\n",
    "\n",
    "\tfor column in XData:\n",
    "\n",
    "\t\tfor RecordIndex, Record in enumerate(XData[column]):\n",
    "\n",
    "\t\t\tXTrainingBatch.append(DataHandler.EncodeData(DataHandler.FormatData(json.loads(Record))).detach().numpy()[0])\n",
    "\n",
    "\t\t\tYTrainingBatch.append(YData.iloc[[RecordIndex]].values[0])\n",
    "\n",
    "\t\t\tif (RecordIndex + 1) % BatchSize == 0:\n",
    "\t\t\t\t\n",
    "\t\t\t\tyield np.array(XTrainingBatch, dtype = float), np.array(YTrainingBatch, dtype = float)\n",
    "\n",
    "\t\t\t\tXTrainingBatch = []\n",
    "\t\t\t\tYTrainingBatch = []\n",
    "\n",
    "\t\t\tif (RecordIndex == len(XData[column])):\n",
    "\n",
    "\t\t\t\tyield np.array(XTrainingBatch, dtype = float), np.array(YTrainingBatch, dtype = float)\n"
   ]
  },
  {
   "cell_type": "code",
   "execution_count": 21,
   "metadata": {},
   "outputs": [],
   "source": [
    "Epochs = 20\n",
    "\n",
    "History = Classifier.fit \\\n",
    "(\n",
    "\tGenerateBatches(DataHandler = DataHandler, XData = XTrainingData, YData = YTrainingData, BatchSize = 128),\n",
    "\tepochs = Epochs,\n",
    "\tverbose = True\n",
    ")"
   ]
  },
  {
   "cell_type": "code",
   "execution_count": null,
   "metadata": {},
   "outputs": [],
   "source": [
    "TrainingLossPerEpoch = History.history[\"loss\"]\n",
    "TrainingAccuracyPerEpoch = History.history[\"accuracy\"]\n",
    "TrainingF1ScorePerEpoch = History.history[\"f1_score\"]"
   ]
  },
  {
   "cell_type": "code",
   "execution_count": null,
   "metadata": {},
   "outputs": [],
   "source": [
    "ValidationHistory = Classifier.evaluate(GenerateBatches(DataHandler = DataHandler, XData = XValidationData, YData = YValidationData, BatchSize = 32))"
   ]
  },
  {
   "cell_type": "code",
   "execution_count": null,
   "metadata": {},
   "outputs": [],
   "source": [
    "ValidationLossPerEpoch = History.history[\"loss\"]\n",
    "ValidationAccuracyPerEpoch = History.history[\"accuracy\"]\n",
    "ValidationF1ScorePerEpoch = History.history[\"f1_score\"]"
   ]
  },
  {
   "cell_type": "code",
   "execution_count": null,
   "metadata": {},
   "outputs": [],
   "source": [
    "EpochsAxis = [i for i in range(Epochs)]"
   ]
  },
  {
   "cell_type": "code",
   "execution_count": null,
   "metadata": {},
   "outputs": [],
   "source": [
    "plt.figure(figsize=(10, 5))\n",
    "plt.plot(TrainingLossPerEpoch, label = 'Training Loss')\n",
    "plt.plot(ValidationLossPerEpoch, label = 'Validation Loss')\n",
    "plt.xlabel('Epochs')\n",
    "plt.ylabel('Loss')\n",
    "plt.title('Training and Validation Loss Over Epochs')\n",
    "plt.legend()\n",
    "plt.show()"
   ]
  }
 ],
 "metadata": {
  "kernelspec": {
   "display_name": "Python 3",
   "language": "python",
   "name": "python3"
  },
  "language_info": {
   "codemirror_mode": {
    "name": "ipython",
    "version": 3
   },
   "file_extension": ".py",
   "mimetype": "text/x-python",
   "name": "python",
   "nbconvert_exporter": "python",
   "pygments_lexer": "ipython3",
   "version": "3.12.0"
  }
 },
 "nbformat": 4,
 "nbformat_minor": 2
}
